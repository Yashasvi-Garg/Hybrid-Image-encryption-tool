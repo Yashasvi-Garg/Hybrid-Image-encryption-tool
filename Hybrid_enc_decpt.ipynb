{
 "cells": [
  {
   "cell_type": "code",
   "execution_count": 1,
   "id": "40a42357",
   "metadata": {},
   "outputs": [],
   "source": [
    "from Crypto.Cipher import AES, PKCS1_OAEP\n",
    "from Crypto.PublicKey import RSA\n",
    "import os\n",
    "from Crypto.Util.Padding import pad\n",
    "from Crypto.Random import get_random_bytes\n"
   ]
  },
  {
   "cell_type": "code",
   "execution_count": 2,
   "id": "99d50ef0",
   "metadata": {},
   "outputs": [
    {
     "data": {
      "image/png": "[encoded data removed]",
      "text/plain": [
       "<Figure size 640x480 with 1 Axes>"
      ]
     },
     "metadata": {},
     "output_type": "display_data"
    }
   ],
   "source": [
    "import cv2\n",
    "import numpy as np\n",
    "import matplotlib.pyplot as plt\n",
    "\n",
    "\n",
    "img = cv2.imread(r'C:\\Users\\KIIT\\Desktop\\Color-image-baboon-and-its-gray-valued-representation-used-as-transparency_Q320.jpg', 0)\n",
    "\n",
    "hist, bins = np.histogram(img.ravel(), 256, [0, 256])\n",
    "\n",
    "plt.hist(img.ravel(), 256, [0, 256])\n",
    "plt.show()"
   ]
  },
  {
   "cell_type": "code",
   "execution_count": 3,
   "id": "7f6f653c",
   "metadata": {},
   "outputs": [
    {
     "name": "stdout",
     "output_type": "stream",
     "text": [
      "Entropy: 16.56886343362656\n"
     ]
    }
   ],
   "source": [
    "import numpy as np\n",
    "from scipy.stats import entropy\n",
    "from PIL import Image\n",
    "\n",
    "img = Image.open(r\"C:\\Users\\KIIT\\Desktop\\Color-image-baboon-and-its-gray-valued-representation-used-as-transparency_Q320.jpg\")\n",
    "\n",
    "gray = np.array(img.convert(\"L\"))\n",
    "\n",
    "ent = entropy(gray.flatten(), base=2)\n",
    "\n",
    "print(f\"Entropy: {ent}\")"
   ]
  },
  {
   "cell_type": "code",
   "execution_count": 4,
   "id": "52578831",
   "metadata": {},
   "outputs": [],
   "source": [
    "key=RSA.generate(2048) "
   ]
  },
  {
   "cell_type": "code",
   "execution_count": 5,
   "id": "6b13bd2c",
   "metadata": {},
   "outputs": [],
   "source": [
    "privkey= key.exportKey()                                            \n",
    "pubkey= key.publickey().exportKey() \n",
    "\n",
    "with open('public.pem','wb') as f:                                  \n",
    "    f.write(pubkey)\n",
    "\n",
    "with open('private.pem','wb') as f:\n",
    "    f.write(privkey)"
   ]
  },
  {
   "cell_type": "code",
   "execution_count": 6,
   "id": "6b197ae0",
   "metadata": {},
   "outputs": [],
   "source": [
    "\n",
    "iv = os.urandom(16)\n",
    "\n",
    "with open('public.pem', 'rb') as f:\n",
    "    public_key = RSA.import_key(f.read())\n",
    "\n",
    "\n",
    "key = os.urandom(32)\n",
    "\n",
    "\n",
    "rsa_cipher = PKCS1_OAEP.new(public_key)\n",
    "enc_key = rsa_cipher.encrypt(key)\n",
    "\n",
    "\n",
    "with open(r'C:\\Users\\KIIT\\Desktop\\Color-image-baboon-and-its-gray-valued-representation-used-as-transparency_Q320.jpg', 'rb') as f:\n",
    "    image_data = f.read()\n",
    "\n",
    "\n",
    "padding_size = 16 - (len(image_data) % 16)\n",
    "padded_data = image_data + bytes([padding_size] * padding_size)\n",
    "\n",
    "\n",
    "aes_cipher = AES.new(key, AES.MODE_CBC, iv=iv)\n",
    "\n",
    "\n",
    "enc_image_data = aes_cipher.encrypt(padded_data)\n",
    "\n",
    "with open('enc_image.jpg', 'wb') as f:\n",
    "    f.write(enc_image_data)\n",
    "\n",
    "with open('enc_key.bin', 'wb') as f:\n",
    "    f.write(enc_key)\n",
    "\n",
    "\n",
    "with open('iv.bin', 'wb') as f:\n",
    "    f.write(iv)\n"
   ]
  },
  {
   "cell_type": "code",
   "execution_count": 7,
   "id": "d6b1d2e5",
   "metadata": {},
   "outputs": [],
   "source": [
    "from PIL import Image\n",
    "fh = open(\"cipher.txt\", \"wb\")\n",
    "fh.write(enc_image_data)\n",
    "fh.close()\n",
    "\n",
    "with open(\"cipher.txt\", \"rb\") as f:\n",
    "    binary_data = f.read()\n",
    "\n",
    "data_length = len(binary_data)\n",
    "width = int(data_length ** 0.5)\n",
    "height = int(data_length / width) + 1\n",
    "\n",
    "\n",
    "img = Image.new(\"L\", (width, height))\n",
    "\n",
    "\n",
    "pixels = [int(byte) for byte in binary_data]\n",
    "\n",
    "\n",
    "img.putdata(pixels)\n",
    "\n",
    "\n",
    "img.save(\"cipher_image.jpg\")\n"
   ]
  },
  {
   "cell_type": "code",
   "execution_count": 8,
   "id": "bd18647b",
   "metadata": {},
   "outputs": [
    {
     "name": "stdout",
     "output_type": "stream",
     "text": [
      "Entropy: 14.995737849257827\n"
     ]
    }
   ],
   "source": [
    "\n",
    "img = Image.open(\"cipher_image.jpg\")\n",
    "\n",
    "\n",
    "gray = np.array(img.convert(\"L\"))\n",
    "\n",
    "ent = entropy(gray.flatten(), base=2)\n",
    "\n",
    "print(f\"Entropy: {ent}\")\n"
   ]
  },
  {
   "cell_type": "code",
   "execution_count": 9,
   "id": "220f117f",
   "metadata": {},
   "outputs": [
    {
     "data": {
      "image/png": "[encoded data removed]",
      "text/plain": [
       "<Figure size 640x480 with 1 Axes>"
      ]
     },
     "metadata": {},
     "output_type": "display_data"
    }
   ],
   "source": [
    "\n",
    "img = cv2.imread(r'cipher_image.jpg', 0)\n",
    "\n",
    "hist, bins = np.histogram(img.ravel(), 256, [0, 256])\n",
    "\n",
    "\n",
    "plt.hist(img.ravel(), 256, [0, 256])\n",
    "plt.show()"
   ]
  },
  {
   "cell_type": "code",
   "execution_count": 10,
   "id": "8dab0915",
   "metadata": {},
   "outputs": [],
   "source": [
    "\n",
    "\n",
    "\n",
    "with open('private.pem', 'rb') as f:\n",
    "    private_key = RSA.import_key(f.read())\n",
    "\n",
    "\n",
    "with open('enc_key.bin', 'rb') as f:\n",
    "    enc_key = f.read()\n",
    "\n",
    "\n",
    "rsa_cipher = PKCS1_OAEP.new(private_key)\n",
    "key = rsa_cipher.decrypt(enc_key)\n",
    "\n",
    "\n",
    "with open('enc_image.jpg', 'rb') as f:\n",
    "    enc_image_data = f.read()\n",
    "\n",
    "\n",
    "with open('iv.bin', 'rb') as f:\n",
    "    iv = f.read()\n",
    "\n",
    "\n",
    "aes_cipher = AES.new(key, AES.MODE_CBC, iv=iv)\n",
    "\n",
    "padded_data = aes_cipher.decrypt(enc_image_data)\n",
    "\n",
    "\n",
    "padding_size = padded_data[-1]\n",
    "image_data = padded_data[:-padding_size]\n",
    "\n",
    "\n",
    "with open('dec_image.jpg', 'wb') as f:\n",
    "    f.write(image_data)\n"
   ]
  },
  {
   "cell_type": "code",
   "execution_count": 11,
   "id": "47effdb4",
   "metadata": {},
   "outputs": [],
   "source": [
    "\n",
    "with open('public.pem', 'rb') as f:\n",
    "    public_key = RSA.import_key(f.read())\n",
    "\n",
    "\n",
    "key = os.urandom(32)\n",
    "\n",
    "\n",
    "aes_cipher = AES.new(key, AES.MODE_ECB)\n",
    "\n",
    "\n",
    "with open(r'C:\\Users\\KIIT\\Desktop\\Color-image-baboon-and-its-gray-valued-representation-used-as-transparency_Q320.jpg', 'rb') as f:\n",
    "    image_data = f.read()\n",
    "\n",
    "\n",
    "padding_size = 16 - len(image_data) % 16\n",
    "padded_data = image_data + bytes([padding_size] * padding_size)\n",
    "\n",
    "\n",
    "enc_image_data = aes_cipher.encrypt(padded_data)\n",
    "\n",
    "rsa_cipher = PKCS1_OAEP.new(public_key)\n",
    "enc_key = rsa_cipher.encrypt(key)\n",
    "\n",
    "\n",
    "with open('enc_image.jpg', 'wb') as f:\n",
    "    f.write(enc_image_data)\n",
    "\n",
    "\n",
    "with open('enc_key.bin', 'wb') as f:\n",
    "    f.write(enc_key)\n"
   ]
  },
  {
   "cell_type": "code",
   "execution_count": 12,
   "id": "66f160df",
   "metadata": {},
   "outputs": [],
   "source": [
    "from PIL import Image\n",
    "fh = open(\"cipher.txt\", \"wb\")\n",
    "fh.write(enc_image_data)\n",
    "fh.close()\n",
    "\n",
    "\n",
    "with open(\"cipher.txt\", \"rb\") as f:\n",
    "    binary_data = f.read()\n",
    "\n",
    "\n",
    "data_length = len(binary_data)\n",
    "width = int(data_length ** 0.5)\n",
    "height = int(data_length / width) + 1\n",
    "\n",
    "\n",
    "img = Image.new(\"L\", (width, height))\n",
    "\n",
    "\n",
    "pixels = [int(byte) for byte in binary_data]\n",
    "\n",
    "\n",
    "img.putdata(pixels)\n",
    "\n",
    "\n",
    "img.save(\"cipher_image.jpg\")\n"
   ]
  },
  {
   "cell_type": "code",
   "execution_count": 13,
   "id": "2fe2c13c",
   "metadata": {},
   "outputs": [
    {
     "data": {
      "image/png": "[encoded data removed]",
      "text/plain": [
       "<Figure size 640x480 with 1 Axes>"
      ]
     },
     "metadata": {},
     "output_type": "display_data"
    }
   ],
   "source": [
    "\n",
    "img = cv2.imread(r'cipher_image.jpg', 0)\n",
    "\n",
    "\n",
    "hist, bins = np.histogram(img.ravel(), 256, [0, 256])\n",
    "\n",
    "\n",
    "plt.hist(img.ravel(), 256, [0, 256])\n",
    "plt.show()"
   ]
  },
  {
   "cell_type": "code",
   "execution_count": 14,
   "id": "2834b979",
   "metadata": {},
   "outputs": [
    {
     "name": "stdout",
     "output_type": "stream",
     "text": [
      "Entropy: 14.990685672126515\n"
     ]
    }
   ],
   "source": [
    "\n",
    "\n",
    "img = Image.open(\"cipher_image.jpg\")\n",
    "\n",
    "\n",
    "gray = np.array(img.convert(\"L\"))\n",
    "\n",
    "\n",
    "ent = entropy(gray.flatten(), base=2)\n",
    "\n",
    "print(f\"Entropy: {ent}\")\n"
   ]
  },
  {
   "cell_type": "code",
   "execution_count": 15,
   "id": "0d3f23b3",
   "metadata": {},
   "outputs": [],
   "source": [
    "\n",
    "\n",
    "\n",
    "with open('private.pem', 'rb') as f:\n",
    "    private_key = RSA.import_key(f.read())\n",
    "\n",
    "with open('enc_key.bin', 'rb') as f:\n",
    "    enc_key = f.read()\n",
    "\n",
    "\n",
    "rsa_cipher = PKCS1_OAEP.new(private_key)\n",
    "key = rsa_cipher.decrypt(enc_key)\n",
    "\n",
    "aes_cipher = AES.new(key, AES.MODE_ECB)\n",
    "\n",
    "\n",
    "with open('enc_image.jpg', 'rb') as f:\n",
    "    enc_image_data = f.read()\n",
    "\n",
    "\n",
    "padded_data = aes_cipher.decrypt(enc_image_data)\n",
    "\n",
    "\n",
    "padding_size = padded_data[-1]\n",
    "image_data = padded_data[:-padding_size]\n",
    "\n",
    "with open('dec_image.jpg', 'wb') as f:\n",
    "    f.write(image_data)\n"
   ]
  },
  {
   "cell_type": "code",
   "execution_count": 16,
   "id": "e4c7ca7c",
   "metadata": {},
   "outputs": [],
   "source": [
    "\n",
    "with open('public.pem', 'rb') as f:\n",
    "    public_key = RSA.import_key(f.read())\n",
    "\n",
    "\n",
    "key =  get_random_bytes(16)\n",
    "\n",
    "\n",
    "rsa_cipher = PKCS1_OAEP.new(public_key)\n",
    "enc_key = rsa_cipher.encrypt(key)\n",
    "\n",
    "\n",
    "with open(r'C:\\Users\\KIIT\\Desktop\\Color-image-baboon-and-its-gray-valued-representation-used-as-transparency_Q320.jpg','rb') as f:\n",
    "    image_data = f.read()\n",
    "\n",
    "nonce = os.urandom(8)\n",
    "\n",
    "\n",
    "aes_cipher = AES.new(key, AES.MODE_CTR, nonce=nonce)\n",
    "\n",
    "\n",
    "enc_image_data = aes_cipher.encrypt(image_data)\n",
    "\n",
    "\n",
    "with open('enc_key.bin', 'wb') as f:\n",
    "    f.write(enc_key)\n",
    "\n",
    "with open('enc_image.jpg', 'wb') as f:\n",
    "    f.write(enc_image_data)\n",
    "\n",
    "\n",
    "with open('nonce.bin', 'wb') as f:\n",
    "    f.write(nonce)\n"
   ]
  },
  {
   "cell_type": "code",
   "execution_count": 17,
   "id": "9e86c779",
   "metadata": {},
   "outputs": [],
   "source": [
    "from PIL import Image\n",
    "fh = open(\"cipher.txt\", \"wb\")\n",
    "fh.write(enc_image_data)\n",
    "fh.close()\n",
    "\n",
    "\n",
    "with open(\"cipher.txt\", \"rb\") as f:\n",
    "    binary_data = f.read()\n",
    "\n",
    "data_length = len(binary_data)\n",
    "width = int(data_length ** 0.5)\n",
    "height = int(data_length / width) + 1\n",
    "\n",
    "\n",
    "img = Image.new(\"L\", (width, height))\n",
    "\n",
    "pixels = [int(byte) for byte in binary_data]\n",
    "\n",
    "img.putdata(pixels)\n",
    "\n",
    "\n",
    "img.save(\"cipher_image.jpg\")\n"
   ]
  },
  {
   "cell_type": "code",
   "execution_count": 18,
   "id": "1ed98dc2",
   "metadata": {},
   "outputs": [
    {
     "data": {
      "image/png": "[encoded data removed]",
      "text/plain": [
       "<Figure size 640x480 with 1 Axes>"
      ]
     },
     "metadata": {},
     "output_type": "display_data"
    }
   ],
   "source": [
    "\n",
    "img = cv2.imread(r'cipher_image.jpg', 0)\n",
    "\n",
    "hist, bins = np.histogram(img.ravel(), 256, [0, 256])\n",
    "\n",
    "plt.hist(img.ravel(), 256, [0, 256])\n",
    "plt.show()"
   ]
  },
  {
   "cell_type": "code",
   "execution_count": 19,
   "id": "1a80c1b9",
   "metadata": {},
   "outputs": [
    {
     "name": "stdout",
     "output_type": "stream",
     "text": [
      "Entropy: 14.992559359672127\n"
     ]
    }
   ],
   "source": [
    "\n",
    "\n",
    "img = Image.open(\"cipher_image.jpg\")\n",
    "\n",
    "\n",
    "gray = np.array(img.convert(\"L\"))\n",
    "\n",
    "\n",
    "ent = entropy(gray.flatten(), base=2)\n",
    "\n",
    "\n",
    "print(f\"Entropy: {ent}\")\n"
   ]
  },
  {
   "cell_type": "code",
   "execution_count": 20,
   "id": "5c3f5512",
   "metadata": {},
   "outputs": [],
   "source": [
    "\n",
    "\n",
    "\n",
    "with open('private.pem', 'rb') as f:\n",
    "    private_key = RSA.import_key(f.read())\n",
    "\n",
    "with open('enc_key.bin', 'rb') as f:\n",
    "    enc_key = f.read()\n",
    "\n",
    "\n",
    "rsa_cipher = PKCS1_OAEP.new(private_key)\n",
    "key = rsa_cipher.decrypt(enc_key)\n",
    "\n",
    "\n",
    "with open('enc_image.jpg', 'rb') as f:\n",
    "    enc_image_data = f.read()\n",
    "\n",
    "with open('nonce.bin', 'rb') as f:\n",
    "    nonce = f.read()\n",
    "\n",
    "\n",
    "aes_cipher = AES.new(key, AES.MODE_CTR, nonce=nonce)\n",
    "\n",
    "\n",
    "image_data = aes_cipher.decrypt(enc_image_data)\n",
    "\n",
    "\n",
    "with open('dec_image.jpg', 'wb') as f:\n",
    "    f.write(image_data)\n"
   ]
  },
  {
   "cell_type": "code",
   "execution_count": 21,
   "id": "4f3e3e6d",
   "metadata": {},
   "outputs": [],
   "source": [
    "\n",
    "\n",
    "aeskey = get_random_bytes(16) #16 bytes = 128bit encryption\n",
    "\n",
    "with open('private.pem', 'rb') as f:\n",
    "    pubkey= f.read()\n",
    "rsakey = RSA.importKey(pubkey)\n",
    "rsacipher = PKCS1_OAEP.new(rsakey)\n",
    "e_aeskey = rsacipher.encrypt(aeskey)\n",
    "\n",
    "\n",
    "with open(r'C:\\Users\\KIIT\\Desktop\\Color-image-baboon-and-its-gray-valued-representation-used-as-transparency_Q320.jpg', 'rb') as f:\n",
    "    data = f.read()\n",
    "\n",
    "aescipher = AES.new(aeskey, AES.MODE_EAX)\n",
    "e_data, tag = aescipher.encrypt_and_digest(data)\n",
    "\n",
    "\n",
    "with open('bundle.enc', 'wb') as f:\n",
    "    f.write(e_aeskey) #256 bytes\n",
    "    f.write(aescipher.nonce) #16 bytes\n",
    "    f.write(tag) #16 bytes\n",
    "    f.write(e_data)\n"
   ]
  },
  {
   "cell_type": "code",
   "execution_count": 22,
   "id": "bb41b75b",
   "metadata": {},
   "outputs": [],
   "source": [
    "from PIL import Image\n",
    "fh = open(\"cipher.txt\", \"wb\")\n",
    "fh.write(e_data)\n",
    "fh.close()\n",
    "\n",
    "\n",
    "with open(\"cipher.txt\", \"rb\") as f:\n",
    "    binary_data = f.read()\n",
    "\n",
    "data_length = len(binary_data)\n",
    "width = int(data_length ** 0.5)\n",
    "height = int(data_length / width) + 1\n",
    "\n",
    "\n",
    "img = Image.new(\"L\", (width, height))\n",
    "\n",
    "\n",
    "pixels = [int(byte) for byte in binary_data]\n",
    "\n",
    "\n",
    "img.putdata(pixels)\n",
    "\n",
    "\n",
    "img.save(\"cipher_image.jpg\")\n"
   ]
  },
  {
   "cell_type": "code",
   "execution_count": 23,
   "id": "2f973488",
   "metadata": {},
   "outputs": [
    {
     "data": {
      "image/png": "[encoded data removed]",
      "text/plain": [
       "<Figure size 640x480 with 1 Axes>"
      ]
     },
     "metadata": {},
     "output_type": "display_data"
    }
   ],
   "source": [
    "\n",
    "\n",
    "img = cv2.imread(r'cipher_image.jpg', 0)\n",
    "\n",
    "\n",
    "hist, bins = np.histogram(img.ravel(), 256, [0, 256])\n",
    "\n",
    "\n",
    "plt.hist(img.ravel(), 256, [0, 256])\n",
    "plt.show()"
   ]
  },
  {
   "cell_type": "code",
   "execution_count": 24,
   "id": "5c895975",
   "metadata": {},
   "outputs": [
    {
     "name": "stdout",
     "output_type": "stream",
     "text": [
      "Entropy: 14.99147685323951\n"
     ]
    }
   ],
   "source": [
    "\n",
    "img = Image.open(\"cipher_image.jpg\")\n",
    "\n",
    "\n",
    "gray = np.array(img.convert(\"L\"))\n",
    "\n",
    "\n",
    "ent = entropy(gray.flatten(), base=2)\n",
    "\n",
    "print(f\"Entropy: {ent}\")\n"
   ]
  },
  {
   "cell_type": "code",
   "execution_count": 25,
   "id": "0e88d51c",
   "metadata": {},
   "outputs": [],
   "source": [
    "\n",
    "from Crypto.Cipher import AES\n",
    "\n",
    "from Crypto.Cipher import PKCS1_OAEP\n",
    "from Crypto.PublicKey import RSA\n",
    "\n",
    "with open('bundle.enc', 'rb') as f:\n",
    "    e_aeskey = f.read(256)\n",
    "   \n",
    "    nonce = f.read(16)\n",
    "    tag = f.read(16)\n",
    "    e_data = f.read()\n",
    "\n",
    "with open('private.pem') as f:\n",
    "    key = f.read()\n",
    "\n",
    "privkey = RSA.importKey(key)\n",
    "rsacipher = PKCS1_OAEP.new(privkey)\n",
    "\n",
    "aeskey = rsacipher.decrypt(e_aeskey)\n",
    "try:\n",
    "    aescipher = AES.new(aeskey, AES.MODE_EAX, nonce)\n",
    "    data = aescipher.decrypt_and_verify(e_data, tag)\n",
    "except:\n",
    "    print('Decryption or Authenticity failure')\n",
    "\n",
    "with open('dec_image.jpg', 'wb') as f:\n",
    "    f.write(data)\n"
   ]
  },
  {
   "cell_type": "code",
   "execution_count": null,
   "id": "2a16077c",
   "metadata": {},
   "outputs": [],
   "source": []
  },
  {
   "cell_type": "code",
   "execution_count": null,
   "id": "6ed4e5c8",
   "metadata": {},
   "outputs": [],
   "source": []
  }
 ],
 "metadata": {
  "kernelspec": {
   "display_name": "Python 3 (ipykernel)",
   "language": "python",
   "name": "python3"
  },
  "language_info": {
   "codemirror_mode": {
    "name": "ipython",
    "version": 3
   },
   "file_extension": ".py",
   "mimetype": "text/x-python",
   "name": "python",
   "nbconvert_exporter": "python",
   "pygments_lexer": "ipython3",
   "version": "3.9.13"
  }
 },
 "nbformat": 4,
 "nbformat_minor": 5
}
